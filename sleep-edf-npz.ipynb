{
 "cells": [
  {
   "cell_type": "markdown",
   "id": "0dce620a",
   "metadata": {},
   "source": [
    "This notebook is a tutorial to show how to manage the preprocessed data for sleep stage classification"
   ]
  },
  {
   "cell_type": "code",
   "execution_count": 51,
   "id": "a42ded28",
   "metadata": {},
   "outputs": [],
   "source": [
    "import numpy as np \n",
    "import gzip as gz \n",
    "from tqdm.notebook import tqdm\n",
    "import torch as th \n",
    "import pickle\n",
    "import matplotlib.pyplot as plt"
   ]
  },
  {
   "cell_type": "code",
   "execution_count": 4,
   "id": "30aa96ee",
   "metadata": {},
   "outputs": [],
   "source": [
    "datad=r\"C:\\Users\\cecio\\Documents\\GitHub\\DL_Project\\sleep-edf-prepared\\5-cassette\"\n"
   ]
  },
  {
   "cell_type": "code",
   "execution_count": 31,
   "id": "ed5a7ea3",
   "metadata": {},
   "outputs": [],
   "source": [
    "fp = gz.open(datad+'/SC4001E0.npz.gz','rb')\n",
    "data = np.load(fp,allow_pickle=True) \n"
   ]
  },
  {
   "cell_type": "code",
   "execution_count": 32,
   "id": "0f1985af",
   "metadata": {},
   "outputs": [
    {
     "data": {
      "text/plain": [
       "['x', 'y', 'fs', 'ch_label', 'header_raw', 'header_annotation']"
      ]
     },
     "execution_count": 32,
     "metadata": {},
     "output_type": "execute_result"
    }
   ],
   "source": [
    "# To see what it contains \n",
    "data.files"
   ]
  },
  {
   "cell_type": "code",
   "execution_count": 45,
   "id": "a2e28263",
   "metadata": {},
   "outputs": [],
   "source": [
    "# The data are stored in 'x' and 'y'\n",
    "x = data['x']\n",
    "y = data['y']\n",
    "header = data['header_raw']"
   ]
  },
  {
   "cell_type": "code",
   "execution_count": 55,
   "id": "c93d7c1d",
   "metadata": {},
   "outputs": [
    {
     "name": "stdout",
     "output_type": "stream",
     "text": [
      "(841, 600, 4) (841,)\n",
      "[0 0 0 0 0 0 0 0 0 0 0 0 0 0 0 0 0 0 0 0 0 0 0 0 0 0 0 0 0 0 0 0 0 0 0 0 0\n",
      " 0 0 0 0 0 0 0 0 0 0 0 0 0 0 0 0 0 0 0 0 0 0 0 1 1 1 1 2 2 2 2 2 2 2 2 2 2\n",
      " 2 2 2 3 2 3 3 3 3 3 3 3 3 3 3 3 3 3 3 3 3 3 3 3 3 0 3 3 2 2 3 3 3 3 3 3 3\n",
      " 3 3 3 2 2 2 2 2 2 2 3 2 2 3 3 3 3 1 2 2 2 2 2 3 3 2 3 2 3 3 3 3 3 3 3 3 3\n",
      " 3 2 3 3 3 3 3 3 3 3 3 3 3 3 3 3 3 3 3 3 3 3 3 3 3 3 3 3 3 3 3 3 3 3 3 3 3\n",
      " 3 3 3 3 3 3 3 3 3 3 3 3 3 3 3 3 3 3 3 3 3 3 3 3 3 3 3 3 3 3 3 3 3 3 1 3 3\n",
      " 3 3 3 3 3 2 2 3 3 3 2 2 2 2 2 3 4 4 4 4 4 4 4 4 4 4 4 4 4 4 4 4 4 4 4 4 4\n",
      " 4 4 4 4 4 4 4 4 1 1 1 1 1 1 2 2 2 2 2 2 2 2 3 1 1 1 1 2 2 2 1 2 2 2 2 2 2\n",
      " 2 2 2 2 2 2 2 2 2 2 2 2 2 2 2 2 2 2 2 2 2 2 2 2 2 3 2 3 3 3 3 3 3 3 3 2 2\n",
      " 2 2 2 3 3 3 3 3 3 3 3 3 3 3 3 3 3 3 3 3 3 3 3 3 3 3 3 3 3 3 3 3 3 3 3 1 2\n",
      " 2 1 2 2 2 2 2 2 2 1 2 2 1 2 2 2 2 2 2 4 4 4 4 4 4 4 4 4 4 4 4 4 4 4 4 4 4\n",
      " 4 4 4 4 4 4 4 4 4 4 4 2 1 1 0 1 1 1 1 2 2 2 2 2 2 2 2 2 2 2 2 2 2 2 2 2 2\n",
      " 2 2 2 2 2 2 2 2 2 2 2 1 2 1 2 2 2 2 2 2 2 2 2 2 3 2 2 2 2 2 2 2 2 2 2 2 2\n",
      " 2 3 2 3 2 3 3 3 3 3 3 3 3 3 3 2 2 2 2 2 2 2 3 3 2 3 3 3 3 3 3 3 3 3 3 3 3\n",
      " 3 3 3 3 3 2 2 2 2 3 3 2 4 4 4 4 4 4 4 4 1 4 4 4 4 4 4 4 4 4 4 4 4 4 4 4 4\n",
      " 4 0 1 1 1 1 0 0 0 0 0 0 0 0 0 0 0 0 0 0 0 0 1 1 1 0 1 1 1 1 2 2 2 2 2 2 2\n",
      " 2 2 2 2 2 2 2 2 2 2 2 2 2 2 2 2 0 0 1 2 2 2 2 2 2 2 2 2 2 2 2 2 2 2 2 2 2\n",
      " 2 2 2 2 2 2 2 2 2 2 2 2 2 2 2 3 2 3 3 3 2 2 2 2 3 3 2 2 3 2 3 2 3 3 3 3 2\n",
      " 2 2 2 2 2 2 3 2 2 2 2 1 1 4 4 4 4 4 4 4 4 4 4 4 4 4 4 4 4 4 4 4 4 4 4 4 4\n",
      " 4 4 4 4 4 4 4 4 4 0 1 1 1 1 1 4 4 4 4 4 4 4 4 4 0 0 0 0 0 0 0 0 0 0 0 0 0\n",
      " 0 0 0 0 1 1 1 0 0 0 0 0 0 0 0 0 0 1 0 0 0 0 0 0 0 0 0 0 0 0 0 0 0 0 0 0 1\n",
      " 1 1 1 1 0 0 0 0 0 0 0 0 0 0 0 0 0 0 0 0 0 0 0 0 0 0 0 0 0 0 0 0 0 0 0 0 0\n",
      " 0 0 0 0 0 0 0 0 0 0 0 0 0 0 0 0 0 0 0 0 0 0 0 0 0 0 0]\n",
      "[[[ 8.1113558e+00 -1.6996337e+00  1.9465446e+01  3.3720000e+00]\n",
      "  [ 5.4857144e+00 -2.2754579e+00  1.2073504e+01  3.3712356e+00]\n",
      "  [ 2.9538462e+00 -1.4117216e+00  2.5379000e+01  3.3708663e+00]\n",
      "  ...\n",
      "  [-3.5164835e+00 -8.3589745e-01 -2.6364592e+01  3.3256528e+00]\n",
      "  [-1.3268865e+01 -2.4673994e+00 -2.4886202e+01  3.3301351e+00]\n",
      "  [-4.9230771e+00 -4.5201465e-01 -4.5583637e+01  3.3349366e+00]]\n",
      "\n",
      " [[-1.0736997e+01 -1.2197802e+00 -2.5379000e+01  3.3399999e+00]\n",
      "  [-2.3677656e+01  1.3714286e+00 -4.9033211e+01  3.3452644e+00]\n",
      "  [-1.0549451e+01 -7.3992676e-01 -3.7206104e+01  3.3506665e+00]\n",
      "  ...\n",
      "  [ 4.5808060e+01  9.2410259e+00  4.1641270e+01  3.5122502e+00]\n",
      "  [ 5.3966301e+01  4.2505493e+00  6.3817093e+01  3.5111766e+00]\n",
      "  [ 6.4750183e+01 -6.8131872e-02  9.7327225e+01  3.5097585e+00]]\n",
      "\n",
      " [[ 6.1374359e+01  2.9069598e+00  4.6076435e+01  3.5079999e+00]\n",
      "  [ 6.5687912e+01  1.4135531e+01  1.8479853e+01  3.5059075e+00]\n",
      "  [ 4.6183151e+01  1.5191209e+01  9.1167278e+00  3.5034883e+00]\n",
      "  ...\n",
      "  [ 4.0838097e+01  1.0835165e+00  3.3263737e+01  3.4661083e+00]\n",
      "  [ 3.8868866e+01  1.4673992e+00 -2.4639805e-01  3.4696310e+00]\n",
      "  [ 3.0991941e+01  5.3062272e+00  3.2031746e+00  3.4722729e+00]]\n",
      "\n",
      " ...\n",
      "\n",
      " [[-9.3304033e+00 -4.8666668e+00  8.3528938e+01  3.1719999e+00]\n",
      "  [-1.8285714e+00 -1.4559707e+01  8.2050552e+01  3.1709025e+00]\n",
      "  [-2.2036631e+00 -1.6996337e+00  7.9586571e+01  3.1696799e+00]\n",
      "  ...\n",
      "  [ 1.5144322e+01  1.0835165e+00 -8.7964104e+01  3.3398097e+00]\n",
      "  [ 1.6082052e+01  2.8109889e+00 -6.2831501e+01  3.3351943e+00]\n",
      "  [ 1.9457876e+01  4.2505493e+00 -3.6220512e+01  3.3312428e+00]]\n",
      "\n",
      " [[ 2.4709158e+01  1.3463737e+01 -3.4249329e+01  3.3280001e+00]\n",
      "  [ 2.6021978e+01  3.0029304e+00 -3.7206104e+01  3.3254957e+00]\n",
      "  [ 1.8707693e+01  4.4424911e+00 -6.6527472e+00  3.3237445e+00]\n",
      "  ...\n",
      "  [ 1.9364103e+01 -4.0029306e+00  2.4393406e+01  3.3506663e+00]\n",
      "  [ 5.6732602e+00 -1.3600000e+01  1.6508669e+01  3.3505645e+00]\n",
      "  [ 1.2893773e+01 -8.8014650e+00  2.4393406e+01  3.3503337e+00]]\n",
      "\n",
      " [[ 2.2552382e+01  2.1978022e-01  8.1311359e+00  3.3499999e+00]\n",
      "  [ 2.2364836e+01  3.9626374e+00  5.1743588e+00  3.3495879e+00]\n",
      "  [ 3.2961174e+01 -3.2351649e+00  1.0102320e+01  3.3491194e+00]\n",
      "  ...\n",
      "  [-2.4709158e+01 -1.0624908e+01  4.4598045e+01  3.1948135e+00]\n",
      "  [-3.0523077e+01  1.1794872e+00  1.2566300e+01  3.1960075e+00]\n",
      "  [-1.7863737e+01 -8.3589745e-01 -1.2319902e+00  3.1977572e+00]]]\n"
     ]
    }
   ],
   "source": [
    "print(x.shape, y.shape)\n",
    "print(y)\n",
    "print(x)\n"
   ]
  },
  {
   "cell_type": "code",
   "execution_count": 9,
   "id": "c8228ef7",
   "metadata": {},
   "outputs": [
    {
     "data": {
      "text/plain": [
       "array({'local_subject_id': 'X F X Female_87yr', 'local_recording_id': 'Startdate 07-AUG-1991 X X X', 'date_time': '2091-08-07 16:00:00', 'EDF+': False, 'contiguous': True, 'n_records': 2780, 'record_length': 30.0, 'n_channels': 7, 'label': ['EEG Fpz-Cz', 'EEG Pz-Oz', 'EOG horizontal', 'Resp oro-nasal', 'EMG submental', 'Temp rectal', 'Event marker'], 'transducer_type': ['Ag-AgCl electrodes', 'Ag-AgCl electrodes', 'Ag-AgCl electrodes', 'Oral-nasal thermistors', 'Ag-AgCl electrodes', 'Rectal thermistor', 'Marker button'], 'units': ['uV', 'uV', 'uV', '', 'uV', '', ''], 'physical_min': array([ -207.,  -179., -1055., -2048.,    -5.,     0., -2047.]), 'physical_max': array([ 207.,  179., 1055., 2047.,    5.,   30., 2048.]), 'digital_min': array([ -2048.,  -2048.,  -2048.,  -2048.,  -2500., -32768.,  -2047.]), 'digital_max': array([ 2047.,  2047.,  2047.,  2047.,  2500., 32767.,  2048.]), 'prefiltering': ['HP:0.5Hz LP:100Hz [enhanced cassette BW]', 'HP:0.5Hz LP:100Hz [enhanced cassette BW]', 'HP:0.5Hz LP:100Hz [enhanced cassette BW]', 'HP:0.03Hz LP:0.9Hz', 'HP:16Hz Rectification LP:0.7Hz', '', 'Hold during 2 seconds'], 'n_samples_per_record': [3000, 3000, 3000, 30, 30, 30, 30]},\n",
       "      dtype=object)"
      ]
     },
     "execution_count": 9,
     "metadata": {},
     "output_type": "execute_result"
    }
   ],
   "source": [
    "# The header is the copy of the original one \n",
    "data[\"header_raw\"]\n"
   ]
  },
  {
   "cell_type": "code",
   "execution_count": 10,
   "id": "3ae92ecd",
   "metadata": {},
   "outputs": [
    {
     "name": "stdout",
     "output_type": "stream",
     "text": [
      "['C:\\\\Users\\\\cecio\\\\Documents\\\\GitHub\\\\DL_Project\\\\sleep-edf-prepared\\\\5-cassette\\\\SC4001E0.npz.gz', 'C:\\\\Users\\\\cecio\\\\Documents\\\\GitHub\\\\DL_Project\\\\sleep-edf-prepared\\\\5-cassette\\\\SC4002E0.npz.gz', 'C:\\\\Users\\\\cecio\\\\Documents\\\\GitHub\\\\DL_Project\\\\sleep-edf-prepared\\\\5-cassette\\\\SC4011E0.npz.gz', 'C:\\\\Users\\\\cecio\\\\Documents\\\\GitHub\\\\DL_Project\\\\sleep-edf-prepared\\\\5-cassette\\\\SC4012E0.npz.gz', 'C:\\\\Users\\\\cecio\\\\Documents\\\\GitHub\\\\DL_Project\\\\sleep-edf-prepared\\\\5-cassette\\\\SC4021E0.npz.gz', 'C:\\\\Users\\\\cecio\\\\Documents\\\\GitHub\\\\DL_Project\\\\sleep-edf-prepared\\\\5-cassette\\\\SC4022E0.npz.gz', 'C:\\\\Users\\\\cecio\\\\Documents\\\\GitHub\\\\DL_Project\\\\sleep-edf-prepared\\\\5-cassette\\\\SC4031E0.npz.gz', 'C:\\\\Users\\\\cecio\\\\Documents\\\\GitHub\\\\DL_Project\\\\sleep-edf-prepared\\\\5-cassette\\\\SC4032E0.npz.gz', 'C:\\\\Users\\\\cecio\\\\Documents\\\\GitHub\\\\DL_Project\\\\sleep-edf-prepared\\\\5-cassette\\\\SC4041E0.npz.gz', 'C:\\\\Users\\\\cecio\\\\Documents\\\\GitHub\\\\DL_Project\\\\sleep-edf-prepared\\\\5-cassette\\\\SC4042E0.npz.gz']\n"
     ]
    }
   ],
   "source": [
    "# The four channels in x are 'EEG Fpz-Cz', 'EEG Pz-Oz', 'EOG horizontal', 'EMG submental'\n",
    "# You can take more if you modify the preparation script and rerun it. \n",
    "# To get a list all the files:\n",
    "import os \n",
    "import glob\n",
    "fnames = glob.glob(os.path.join(datad, \"*npz.gz\"))\n",
    "print(fnames[:10]) # print the first 10"
   ]
  },
  {
   "cell_type": "code",
   "execution_count": 11,
   "id": "220193b4",
   "metadata": {
    "scrolled": false
   },
   "outputs": [
    {
     "data": {
      "application/vnd.jupyter.widget-view+json": {
       "model_id": "95f0b1d567a6416bb12001928034f5ac",
       "version_major": 2,
       "version_minor": 0
      },
      "text/plain": [
       "  0%|          | 0/153 [00:00<?, ?it/s]"
      ]
     },
     "metadata": {},
     "output_type": "display_data"
    }
   ],
   "source": [
    "devpart = 10\n",
    "xtrain , xvalid = None , None \n",
    "ytrain , yvalid = None , None \n",
    "# If you take all the data you should end with \n",
    "# \n",
    "for fn in tqdm(fnames): \n",
    "    fp = gz.open(fn,'rb')\n",
    "    data = np.load(fp,allow_pickle=False) # for now, don't care about headers\n",
    "    x = data['x'][:,:,2] # Take only the EOG\n",
    "    y = data['y'] # Take the labels \n",
    "    idx = np.arange(x.shape[0])\n",
    "    np.random.shuffle(idx)\n",
    "    devlim = x.shape[0]//devpart\n",
    "    devpart = 10\n",
    "    idx = np.arange(x.shape[0])\n",
    "    np.random.shuffle(idx)\n",
    "    devlim = x.shape[0]//devpart\n",
    "    if xtrain is None: \n",
    "        xtrain = np.zeros((1,x.shape[1]))\n",
    "        xvalid = np.zeros((1,x.shape[1]))\n",
    "        ytrain , yvalid = np.zeros(1) , np.zeros(1)\n",
    "    xvalid = np.concatenate((xvalid,x[idx[:devlim]]), axis=0)\n",
    "    yvalid = np.concatenate((yvalid,y[idx[:devlim]]), axis=0)\n",
    "    xtrain = np.concatenate((xtrain,x[idx[devlim:]]), axis=0)\n",
    "    ytrain = np.concatenate((ytrain,y[idx[devlim:]]), axis=0)\n",
    "    del x,y"
   ]
  },
  {
   "cell_type": "code",
   "execution_count": 12,
   "id": "1aa3fb53",
   "metadata": {
    "scrolled": true
   },
   "outputs": [
    {
     "name": "stdout",
     "output_type": "stream",
     "text": [
      "(175996, 600) (19485, 600)\n",
      "(175996,) (19485,)\n"
     ]
    }
   ],
   "source": [
    "print(xtrain.shape, xvalid.shape)\n",
    "print(ytrain.shape, yvalid.shape)\n"
   ]
  },
  {
   "cell_type": "code",
   "execution_count": 13,
   "id": "b338cddb",
   "metadata": {},
   "outputs": [
    {
     "name": "stdout",
     "output_type": "stream",
     "text": [
      "(175995, 600) (19484, 600)\n",
      "(175995,) (19484,)\n"
     ]
    }
   ],
   "source": [
    "# clean the first dummy example \n",
    "xtrain , xvalid = xtrain[1:] , xvalid[1:] \n",
    "ytrain , yvalid = ytrain[1:] , yvalid[1:] \n",
    "print(xtrain.shape, xvalid.shape)\n",
    "print(ytrain.shape, yvalid.shape)\n"
   ]
  },
  {
   "cell_type": "code",
   "execution_count": 14,
   "id": "beb29cfc",
   "metadata": {},
   "outputs": [],
   "source": [
    "# In Torch version \n",
    "xtrain, xvalid = th.FloatTensor(xtrain), th.FloatTensor(xvalid)\n",
    "ytrain, yvalid = th.IntTensor(ytrain), th.IntTensor(yvalid)"
   ]
  },
  {
   "cell_type": "code",
   "execution_count": 24,
   "id": "7118d956",
   "metadata": {},
   "outputs": [],
   "source": [
    "outf=\"./cassette-th-data.pck\"\n",
    "fp = open(outf,\"wb\")\n",
    "pickle.dump((xtrain , xvalid , ytrain , yvalid), fp)"
   ]
  },
  {
   "cell_type": "code",
   "execution_count": null,
   "id": "8262aa6b",
   "metadata": {},
   "outputs": [],
   "source": []
  }
 ],
 "metadata": {
  "kernelspec": {
   "display_name": "Python 3 (ipykernel)",
   "language": "python",
   "name": "python3"
  },
  "language_info": {
   "codemirror_mode": {
    "name": "ipython",
    "version": 3
   },
   "file_extension": ".py",
   "mimetype": "text/x-python",
   "name": "python",
   "nbconvert_exporter": "python",
   "pygments_lexer": "ipython3",
   "version": "3.11.8"
  },
  "toc": {
   "base_numbering": 1,
   "nav_menu": {},
   "number_sections": true,
   "sideBar": true,
   "skip_h1_title": false,
   "title_cell": "Table of Contents",
   "title_sidebar": "Contents",
   "toc_cell": false,
   "toc_position": {},
   "toc_section_display": true,
   "toc_window_display": false
  }
 },
 "nbformat": 4,
 "nbformat_minor": 5
}
